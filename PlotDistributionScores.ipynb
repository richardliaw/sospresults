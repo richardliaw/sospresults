{
 "cells": [
  {
   "cell_type": "code",
   "execution_count": null,
   "metadata": {},
   "outputs": [],
   "source": [
    "import pandas as pd\n",
    "import os\n",
    "import glob\n",
    "\n",
    "import matplotlib.pyplot as plt\n",
    "%matplotlib inline\n",
    "\n",
    "path = \"/data/rliaw/socc_playground/AsyncHyperBandScheduler-06-06_15-02-03-jobs=60-atoms=8/\"\n",
    "progresses = glob.glob(os.path.join(path, \"*/progress.csv\"))\n",
    "\n",
    "dfs = {k: pd.read_csv(k) for k in progresses if os.path.getsize(k)}\n",
    "\n",
    "\n",
    "trial_to_length = {int(path.split(\"PytorchSGD_\")[1].split(\"_momentum\")[0]): len(df) for path, df in dfs.items()}\n",
    "trial_to_score = {int(path.split(\"PytorchSGD_\")[1].split(\"_momentum\")[0]): df.mean_accuracy.max() for path, df in dfs.items()}\n",
    "\n",
    "keys, values = zip(*trial_to_length.items())\n",
    "plt.bar(list(keys), list(values))\n",
    "plt.grid(True)\n",
    "plt.yticks(fontsize=20)\n",
    "plt.xticks(fontsize=20)\n",
    "plt.ylabel(\"Length of Trial\", fontsize=20)\n",
    "plt.xlabel(\"Index of Trial\", fontsize=20)\n",
    "plt.savefig(\"iterations-asha.pdf\", bbox_inches='tight')\n",
    "\n",
    "keys, values = zip(*trial_to_score.items())\n",
    "plt.bar(list(keys), list(values))\n",
    "plt.grid(True)\n",
    "plt.yticks(fontsize=20)\n",
    "plt.xticks(fontsize=20)\n",
    "plt.ylabel(\"Accuracy of Trial\", fontsize=20)\n",
    "plt.xlabel(\"Index of Trial\", fontsize=20)\n",
    "plt.savefig(\"accuracy-asha.pdf\", bbox_inches='tight')"
   ]
  }
 ],
 "metadata": {
  "kernelspec": {
   "display_name": "Python 3",
   "language": "python",
   "name": "python3"
  },
  "language_info": {
   "codemirror_mode": {
    "name": "ipython",
    "version": 3
   },
   "file_extension": ".py",
   "mimetype": "text/x-python",
   "name": "python",
   "nbconvert_exporter": "python",
   "pygments_lexer": "ipython3",
   "version": "3.7.3"
  }
 },
 "nbformat": 4,
 "nbformat_minor": 2
}
